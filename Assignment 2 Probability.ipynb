{
 "cells": [
  {
   "cell_type": "markdown",
   "id": "2664328b",
   "metadata": {},
   "source": [
    "1. Write a Python program to simulate the following scenarios:\n",
    "   a) Tossing a coin 10,000 times and calculating the experimental probability of heads and tails.\n",
    "   b) Rolling two dice and and computing the probability of getting a sum of 7."
   ]
  },
  {
   "cell_type": "code",
   "execution_count": 8,
   "id": "8c2c5033",
   "metadata": {},
   "outputs": [
    {
     "name": "stdout",
     "output_type": "stream",
     "text": [
      "Probability of getting head =  0.5012\n",
      "Probability of getting tail =  0.4988\n"
     ]
    }
   ],
   "source": [
    "import random\n",
    "\n",
    "Head = 0\n",
    "Tail = 0\n",
    "for i in range(1, 10001):\n",
    "    outcome = random.randint(0,1)\n",
    "    if outcome == 1:\n",
    "        Head += 1\n",
    "    else:\n",
    "        Tail += 1\n",
    "P_Head = Head/10000\n",
    "P_Tail = Tail/10000\n",
    "print(\"Probability of getting head = \", P_Head)\n",
    "print(\"Probability of getting tail = \", P_Tail)"
   ]
  },
  {
   "cell_type": "code",
   "execution_count": 13,
   "id": "f7af9a65",
   "metadata": {},
   "outputs": [
    {
     "name": "stdout",
     "output_type": "stream",
     "text": [
      "Enter the number of times dice is rolled: 2\n",
      "The probability of getting a of 7 =  0.5\n"
     ]
    }
   ],
   "source": [
    "import random\n",
    "\n",
    "Times_rolled = input(\"Enter the number of times dice is rolled: \")\n",
    "Times_rolled = int(Times_rolled)\n",
    "count = 0\n",
    "\n",
    "for i in range(Times_rolled):\n",
    "    dice_1 = random.randint(1, 6)\n",
    "    dice_2 = random.randint(1, 6)\n",
    "    dice_sum = dice_1 + dice_2\n",
    "    if dice_sum == 7:\n",
    "        count += 1\n",
    "P_sum_7 = count/Times_rolled\n",
    "print(\"The probability of getting a of 7 = \", P_sum_7)"
   ]
  },
  {
   "cell_type": "markdown",
   "id": "0da7784c",
   "metadata": {},
   "source": [
    "2. Write a function to estimate the probability of getting at least one \"6\" in 10 rolls of a fair die."
   ]
  },
  {
   "cell_type": "code",
   "execution_count": 5,
   "id": "149bf4a9",
   "metadata": {},
   "outputs": [
    {
     "name": "stdout",
     "output_type": "stream",
     "text": [
      "Enter the number of times dice should be rolled '10' times10000\n",
      "Estimated probability of getting at least one '6' in '10' roll of dice =  0.8364\n"
     ]
    }
   ],
   "source": [
    "import random\n",
    "\n",
    "count = 0\n",
    "trials = int(input(\"Enter the number of times dice should be rolled '10' times\"))\n",
    "\n",
    "for i in range(trials):\n",
    "    found_six = False\n",
    "    for j in range(10):\n",
    "        outcome =  random.randint(1,6)\n",
    "        if outcome == 6:\n",
    "            found_six = True\n",
    "            break\n",
    "    if found_six:\n",
    "        count += 1\n",
    "P_get_6 = count/trials\n",
    "print(\"Estimated probability of getting at least one '6' in '10' roll of dice = \", P_get_6)"
   ]
  },
  {
   "cell_type": "markdown",
   "id": "43ba41f8",
   "metadata": {},
   "source": [
    "3. A bag contains 5 red, 7 green, and 8 blue balls. A ball is drawn randomly, its color noted, and it is put back into the bag. If this process is repeated 1000 times, write a Python program to estimate:  \n",
    "  a. The probability of drawing a red ball given that the previous ball was blue.  \n",
    "  b. Verify Bayes' theorem with the simulation results."
   ]
  },
  {
   "cell_type": "code",
   "execution_count": 2,
   "id": "a5ed57c1",
   "metadata": {},
   "outputs": [
    {
     "name": "stdout",
     "output_type": "stream",
     "text": [
      "Estimated P(Red | Previous was Blue): 0.2548\n",
      "Bayes' Theorem P(Red | Previous was Blue): 0.2546\n",
      "\n",
      "--- Summary ---\n",
      "Total Red Draws: 261\n",
      "Total Prev Blue Count: 416\n",
      "Total Red After Blue: 106\n",
      "P(Red): 0.261\n",
      "P(Prev Blue): 0.4164\n",
      "P(Prev Blue | Red): 0.4061\n"
     ]
    }
   ],
   "source": [
    "import random\n",
    "\n",
    "red_ball = 5\n",
    "green_ball = 7\n",
    "blue_ball = 8\n",
    "Total_balls = red_ball + green_ball + blue_ball\n",
    "red = 0\n",
    "green = 0\n",
    "blue = 0\n",
    "\n",
    "prev = None\n",
    "count_prev_blue = 0\n",
    "count_red_after_blue = 0\n",
    "count_prev_blue_given_red = 0\n",
    "\n",
    "for i in range(1000):\n",
    "    draw = random.randint(1,  Total_balls)\n",
    "    if draw <= red_ball:\n",
    "        red += 1\n",
    "        colour = \"red\"\n",
    "    elif draw <= (red_ball + green_ball):\n",
    "        green += 1\n",
    "        colour = \"green\"\n",
    "    else:\n",
    "        blue += 1\n",
    "        colour = \"blue\"\n",
    "        \n",
    "    if prev == \"blue\":\n",
    "        count_prev_blue += 1\n",
    "        if colour == \"red\":\n",
    "            count_red_after_blue += 1\n",
    "            \n",
    "    if colour == \"red\" and prev == \"blue\":\n",
    "        count_prev_blue_given_red += 1\n",
    "            \n",
    "    prev = colour\n",
    "    \n",
    "P_red = red / 1000\n",
    "P_prev_blue = count_prev_blue / (1000 - 1)\n",
    "P_prev_blue_given_red = count_prev_blue_given_red / red if red != 0 else 0\n",
    "    \n",
    "if count_prev_blue > 0:\n",
    "    P_red_given_blue = count_red_after_blue/count_prev_blue\n",
    "    print(\"Estimated P(Red | Previous was Blue):\", round(P_red_given_blue, 4))\n",
    "else:\n",
    "    print(\"No previous blue draws to calculate conditional probability.\")\n",
    "    \n",
    "if P_prev_blue != 0:\n",
    "    P_red_given_prev_blue_bayes = (P_prev_blue_given_red * P_red) / P_prev_blue\n",
    "    print(\"Bayes' Theorem P(Red | Previous was Blue):\", round(P_red_given_prev_blue_bayes, 4))\n",
    "else:\n",
    "    print(\"Cannot apply Bayes' Theorem (division by zero).\")\n",
    "    \n",
    "print(\"\\n--- Summary ---\")\n",
    "print(\"Total Red Draws:\", red)\n",
    "print(\"Total Prev Blue Count:\", count_prev_blue)\n",
    "print(\"Total Red After Blue:\", count_red_after_blue)\n",
    "print(\"P(Red):\", round(P_red, 4))\n",
    "print(\"P(Prev Blue):\", round(P_prev_blue, 4))\n",
    "print(\"P(Prev Blue | Red):\", round(P_prev_blue_given_red, 4))"
   ]
  },
  {
   "cell_type": "markdown",
   "id": "14893d1e",
   "metadata": {},
   "source": [
    "4. Generate a sample of size 1000 from a discrete random variable with the following distribution:  \n",
    "  - P(X=1) = 0.25\n",
    "  - P(X=2) = 0.35\n",
    "  - P(X=3) = 0.4\n",
    "  Compute the empirical mean, variance, and standard deviation of the sample."
   ]
  },
  {
   "cell_type": "code",
   "execution_count": 1,
   "id": "42c22417",
   "metadata": {},
   "outputs": [
    {
     "name": "stdout",
     "output_type": "stream",
     "text": [
      "Empirical Mean: 2.1740\n",
      "Empirical Variance: 0.6077\n",
      "Empirical Standard Deviation: 0.7796\n"
     ]
    }
   ],
   "source": [
    "import numpy as np\n",
    "\n",
    "values = [1, 2, 3]\n",
    "probabilities = [0.25, 0.35, 0.40]\n",
    "\n",
    "sample = np.random.choice(values, size=1000, p=probabilities)\n",
    "\n",
    "mean = np.mean(sample)\n",
    "variance = np.var(sample)\n",
    "std_dev = np.std(sample)\n",
    "\n",
    "print(f\"Empirical Mean: {mean:.4f}\")\n",
    "print(f\"Empirical Variance: {variance:.4f}\")\n",
    "print(f\"Empirical Standard Deviation: {std_dev:.4f}\")"
   ]
  },
  {
   "cell_type": "markdown",
   "id": "133538ad",
   "metadata": {},
   "source": [
    "5. Simulate 2000 random samples from an exponential distribution with a mean of 5. Visualize the distribution using:  \n",
    "  a. A histogram.  \n",
    "  b. A probability density function (PDF) overlay."
   ]
  },
  {
   "cell_type": "code",
   "execution_count": 2,
   "id": "d2d71dfe",
   "metadata": {},
   "outputs": [
    {
     "data": {
      "image/png": "[encoded data removed]",
      "text/plain": [
       "<Figure size 640x480 with 1 Axes>"
      ]
     },
     "metadata": {},
     "output_type": "display_data"
    }
   ],
   "source": [
    "import numpy as np\n",
    "import matplotlib.pyplot as plt\n",
    "from scipy.stats import expon\n",
    "\n",
    "mean = 5\n",
    "lambda_val = 1 / mean\n",
    "\n",
    "samples = np.random.exponential(scale=mean, size=2000)\n",
    "\n",
    "plt.hist(samples, bins=50, density=True, alpha=0.6, color='skyblue', label='Histogram')\n",
    "\n",
    "x = np.linspace(0, np.max(samples), 1000)\n",
    "pdf = lambda_val * np.exp(-lambda_val * x)\n",
    "plt.plot(x, pdf, 'r-', label='PDF', linewidth=2)\n",
    "\n",
    "plt.title('Exponential Distribution (mean=5)')\n",
    "plt.xlabel('Value')\n",
    "plt.ylabel('Density')\n",
    "plt.legend()\n",
    "plt.grid(True)\n",
    "plt.show()"
   ]
  },
  {
   "cell_type": "markdown",
   "id": "46dc8d4a",
   "metadata": {},
   "source": [
    "6. Simulate the Central Limit Theorem by following these steps  \n",
    "  a. Generate 10,000 random numbers from a uniform distribution.  \n",
    "  b. Draw 1000 samples of size n = 30.  \n",
    "  c. Calculate and visualize the distribution of sample means."
   ]
  },
  {
   "cell_type": "code",
   "execution_count": null,
   "id": "0c0c532e",
   "metadata": {},
   "outputs": [],
   "source": [
    "import numpy as np\n",
    "import matplotlib.pyplot as plt\n",
    "\n",
    "population = np.random.uniform(0, 1, 10000)\n",
    "\n",
    "sample_size = 30\n",
    "num_samples = 1000\n",
    "sample_means = []\n",
    "\n",
    "for _ in range(num_samples):\n",
    "    sample = np.random.choice(population, size=sample_size, replace=False)\n",
    "    sample_means.append(np.mean(sample))\n",
    "\n",
    "plt.hist(sample_means, bins=40, density=True, color='lightgreen', edgecolor='black', alpha=0.7)\n",
    "plt.title('Central Limit Theorem Simulation')\n",
    "plt.xlabel('Sample Mean')\n",
    "plt.ylabel('Density')\n",
    "plt.grid(True)\n",
    "plt.show()"
   ]
  }
 ],
 "metadata": {
  "kernelspec": {
   "display_name": "Python 3 (ipykernel)",
   "language": "python",
   "name": "python3"
  },
  "language_info": {
   "codemirror_mode": {
    "name": "ipython",
    "version": 3
   },
   "file_extension": ".py",
   "mimetype": "text/x-python",
   "name": "python",
   "nbconvert_exporter": "python",
   "pygments_lexer": "ipython3",
   "version": "3.9.13"
  }
 },
 "nbformat": 4,
 "nbformat_minor": 5
}
